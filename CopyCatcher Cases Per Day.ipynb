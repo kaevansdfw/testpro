{
 "cells": [
  {
   "cell_type": "code",
   "execution_count": 1,
   "id": "4127c34e",
   "metadata": {},
   "outputs": [
    {
     "ename": "InterfaceError",
     "evalue": "('IM002', '[IM002] [Microsoft][ODBC Driver Manager] Data source name not found and no default driver specified (0) (SQLDriverConnect)')",
     "output_type": "error",
     "traceback": [
      "\u001b[1;31m---------------------------------------------------------------------------\u001b[0m",
      "\u001b[1;31mInterfaceError\u001b[0m                            Traceback (most recent call last)",
      "\u001b[1;32m<timed exec>\u001b[0m in \u001b[0;36m<module>\u001b[1;34m\u001b[0m\n",
      "\u001b[1;31mInterfaceError\u001b[0m: ('IM002', '[IM002] [Microsoft][ODBC Driver Manager] Data source name not found and no default driver specified (0) (SQLDriverConnect)')"
     ]
    }
   ],
   "source": [
    "%%time\n",
    "\n",
    "# Import the Python library that uses ODBC connections and Pandas\n",
    "import pandas as pd\n",
    "import numpy as np\n",
    "import pyodbc\n",
    "import matplotlib.pyplot as plt\n",
    "import seaborn as sns\n",
    "import datetime as dt\n",
    "\n",
    "# Create a connection to Teradata\n",
    "conn = pyodbc.connect('DSN=TDPROD') \n",
    "\n",
    "# Write the query you want to run\n",
    "query_string = \"\"\"SELECT ACF.CASE_NBR,ACF.CASE_CREATED_DATETM,ACF.CASE_CLOSED_DATETM,ACF.SUBJECT,AD.LODG_PROPERTY_NAME,AD.EXPE_LODG_PROPERTY_ID,AD.PROPERTY_SUPER_REGN_NAME,ACF.CASE_DESC,RTD.REC_TYP_NAME,CTD.CASE_TYP_NAME FROM P_DM_GSO_CASE.OPS_AGNT_CASE_FACT ACF JOIN P_DM_GSO_CASE.CASE_TYP_DIM CTD on CTD.CASE_TYP_KEY = ACF.CASE_TYP_KEY JOIN P_DM_GSO_CASE.REC_TYP_DIM RTD on RTD.REC_TYP_KEY = ACF.REC_TYP_KEY JOIN P_DM_GSO_CASE.GSO_ACCT_DIM AD on AD.ACCT_KEY = ACF.ACCT_KEY WHERE ACF.CASE_CREATED_DATETM > '2022-01-01 00:00:00' AND ACF.CASE_CREATED_EMP_KEY = '2536788' AND RTD.REC_TYP_NAME = 'Property Setup' and CTD.CASE_TYP_NAME = 'Pre-Onboarding' ORDER BY ACF.CASE_NBR;\"\"\" \n",
    "\n",
    "# Execute the query and store it in a Python data frame\n",
    "df = pd.read_sql(query_string, conn)\n",
    "\n",
    "# Close the connection\n",
    "conn.close()\n",
    "\n",
    "# Strip the time from created and closed datetimes\n",
    "df[\"CASE_CREATED_DATE\"] = df.CASE_CREATED_DATETM.dt.date\n",
    "df[\"CASE_CLOSED_DATE\"] = df.CASE_CLOSED_DATETM.dt.date\n",
    "df.CASE_CREATED_DATE = pd.to_datetime(df.CASE_CREATED_DATE)\n",
    "df.CASE_CLOSED_DATE = pd.to_datetime(df.CASE_CLOSED_DATE)\n",
    "\n",
    "#save dataframe to csv file with semicolon separator\n",
    "df.to_csv('C:/Users/clistewart/Downloads/copycatchercases.csv', sep=';') \n",
    "\n",
    "# Add all days and merge with data\n",
    "from datetime import date, timedelta\n",
    "today = date.today()\n",
    "all_dates = pd.DataFrame(pd.date_range(\"2022-01-19\", date.today() - timedelta(days = 1 )), columns=['CASE_CREATED_DATE'])\n",
    "all_dates['PROPERTY_SUPER_REGN_NAME']='AMER'\n",
    "all_dates2 = pd.DataFrame(pd.date_range(\"2022-01-19\", date.today() - timedelta(days = 1 )), columns=['CASE_CREATED_DATE'])\n",
    "all_dates2['PROPERTY_SUPER_REGN_NAME']='LATAM'\n",
    "all_dates3 = pd.concat([all_dates, all_dates2], axis=0)\n",
    "grouped_by_day_df = df[[\"CASE_CREATED_DATE\",\"CASE_NBR\",\"PROPERTY_SUPER_REGN_NAME\"]]\n",
    "new_df = all_dates3.merge(right=grouped_by_day_df, how='left', on=['CASE_CREATED_DATE','PROPERTY_SUPER_REGN_NAME'])\n",
    "\n",
    "cols = ['CASE_CREATED_DATE','PROPERTY_SUPER_REGN_NAME']\n",
    "\n",
    "# Aggregate Cases by Created Date\n",
    "new_df2 = new_df.groupby(cols, as_index=False)['CASE_NBR'].count()\n",
    "\n",
    "# Change the chart size\n",
    "plt.figure(figsize=(12,6)) \n",
    "\n",
    "# set colors when defining the detail level\n",
    "ax = sns.lineplot(data=new_df2, \n",
    "                        x='CASE_CREATED_DATE', \n",
    "                        y='CASE_NBR', \n",
    "                        hue='PROPERTY_SUPER_REGN_NAME',\n",
    "                        palette={'LATAM':'blue', 'AMER':'red'}) \n",
    "\n",
    "# labels and title\n",
    "ax.set(xlabel='Case Created Date', \n",
    "       ylabel='Cases Created', \n",
    "       title='AMER vs LATAM CopyCatcher Cases Created Daily')\n",
    "\n",
    "# start y-axis at zero\n",
    "ax.set_ylim(bottom=0)\n",
    "\n",
    "# rotate the x axis value by 45% to make it readable \n",
    "plt.xticks(rotation=45)\n",
    "\n",
    "plt.show()"
   ]
  },
  {
   "cell_type": "code",
   "execution_count": null,
   "id": "ca81a195",
   "metadata": {},
   "outputs": [],
   "source": []
  }
 ],
 "metadata": {
  "kernelspec": {
   "display_name": "Python 3 (ipykernel)",
   "language": "python",
   "name": "python3"
  },
  "language_info": {
   "codemirror_mode": {
    "name": "ipython",
    "version": 3
   },
   "file_extension": ".py",
   "mimetype": "text/x-python",
   "name": "python",
   "nbconvert_exporter": "python",
   "pygments_lexer": "ipython3",
   "version": "3.9.7"
  }
 },
 "nbformat": 4,
 "nbformat_minor": 5
}
